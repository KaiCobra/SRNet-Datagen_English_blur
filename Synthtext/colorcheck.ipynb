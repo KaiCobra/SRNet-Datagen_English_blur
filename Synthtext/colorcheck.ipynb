{
 "cells": [
  {
   "cell_type": "code",
   "execution_count": 5,
   "metadata": {},
   "outputs": [
    {
     "name": "stdout",
     "output_type": "stream",
     "text": [
      "Error reading the ICC profile: cannot open profile file\n"
     ]
    }
   ],
   "source": [
    "from PIL import ImageCms\n",
    "\n",
    "# Open an ICC profile file\n",
    "icc_profile = '/data/colors.cp'\n",
    "\n",
    "# Load the color profile\n",
    "try:\n",
    "    profile = ImageCms.getOpenProfile(icc_profile)\n",
    "    print(\"ICC Profile Details:\", profile)\n",
    "except Exception as e:\n",
    "    print(\"Error reading the ICC profile:\", e)\n"
   ]
  },
  {
   "cell_type": "code",
   "execution_count": 10,
   "metadata": {},
   "outputs": [
    {
     "name": "stdout",
     "output_type": "stream",
     "text": [
      "b\"cnumpy.core.multiarray\\n_reconstruct\\np1\\n(cnumpy\\nndarray\\np2\\n(I0\\ntS'b'\\ntRp3\\n(I1\\n(I4941\\nI12\\ntcnumpy\\ndtype\\np4\\n(S'f8'\\nI0\\nI1\\ntRp5\\n(I3\\nS'<'\\nNNNI-1\\nI-1\\nI0\\ntbI00\\nS'\\\\x00\\\\x00\\\\x00\\\\x00\\\\x00@c@\\\\x00\\\\x00\\\\x00\\\\x00\\\\x00\\\\x0\"\n"
     ]
    }
   ],
   "source": [
    "# Open the .cp file in binary mode\n",
    "with open('data/colors.cp', 'rb') as file:\n",
    "    binary_data = file.read()\n",
    "\n",
    "# Print raw binary data (for debugging)\n",
    "print(binary_data[:200])\n"
   ]
  },
  {
   "cell_type": "code",
   "execution_count": null,
   "metadata": {},
   "outputs": [],
   "source": []
  }
 ],
 "metadata": {
  "kernelspec": {
   "display_name": "kai_satt",
   "language": "python",
   "name": "python3"
  },
  "language_info": {
   "codemirror_mode": {
    "name": "ipython",
    "version": 3
   },
   "file_extension": ".py",
   "mimetype": "text/x-python",
   "name": "python",
   "nbconvert_exporter": "python",
   "pygments_lexer": "ipython3",
   "version": "3.7.16"
  }
 },
 "nbformat": 4,
 "nbformat_minor": 2
}
